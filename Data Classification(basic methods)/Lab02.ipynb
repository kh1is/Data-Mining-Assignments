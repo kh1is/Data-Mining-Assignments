{
  "nbformat": 4,
  "nbformat_minor": 0,
  "metadata": {
    "colab": {
      "name": "Lab02_test.ipynb",
      "provenance": []
    },
    "kernelspec": {
      "name": "python3",
      "display_name": "Python 3"
    },
    "accelerator": "GPU"
  },
  "cells": [
    {
      "cell_type": "code",
      "metadata": {
        "id": "EcgLcIa5UOTS",
        "colab_type": "code",
        "colab": {}
      },
      "source": [
        "# Upload File\n",
        "from google.colab import files\n",
        "\n",
        "uploaded = files.upload()\n",
        "\n",
        "for fn in uploaded.keys():\n",
        "  print('User uploaded file \"{name}\" with length {length} bytes'.format(\n",
        "      name=fn, length=len(uploaded[fn])))"
      ],
      "execution_count": 0,
      "outputs": []
    },
    {
      "cell_type": "code",
      "metadata": {
        "id": "LcZntXpMkVKH",
        "colab_type": "code",
        "colab": {}
      },
      "source": [
        "# Read data content\n",
        "f =open(\"/content/wdbc.data\", \"r\")\n",
        "if f.mode == 'r':\n",
        "    dataContents =f.readlines()\n",
        "\n",
        "dataContents"
      ],
      "execution_count": 0,
      "outputs": []
    },
    {
      "cell_type": "code",
      "metadata": {
        "id": "NTgbXz39nNEh",
        "colab_type": "code",
        "colab": {}
      },
      "source": [
        "# Creating list of list of strings for data content\n",
        "splitedContents = [i.split(\",\") for i in dataContents]\n",
        "splitedContents"
      ],
      "execution_count": 0,
      "outputs": []
    },
    {
      "cell_type": "code",
      "metadata": {
        "id": "McnHa23sob4i",
        "colab_type": "code",
        "colab": {}
      },
      "source": [
        "# Creating dataFrame\n",
        "import pandas as pd\n",
        "\n",
        "dataFrame = pd.DataFrame(splitedContents)\n",
        "dataFrame"
      ],
      "execution_count": 0,
      "outputs": []
    },
    {
      "cell_type": "code",
      "metadata": {
        "id": "7wtur14_rxqf",
        "colab_type": "code",
        "colab": {}
      },
      "source": [
        "# Create Histogram plot for class 'M' and class 'B'\n",
        "import matplotlib.pyplot as plt\n",
        "\n",
        "#tmp = dataframe for class B only\n",
        "tmp = dataFrame.loc[dataFrame[1] == 'B',:]\n",
        "\n",
        "#tmp2 = dataframe for class M only\n",
        "tmp2 = dataFrame.loc[dataFrame[1] == 'M',:]\n",
        "\n",
        "plt.hist(tmp)\n",
        "plt.show()"
      ],
      "execution_count": 0,
      "outputs": []
    },
    {
      "cell_type": "code",
      "metadata": {
        "id": "C979qGTgIef0",
        "colab_type": "code",
        "colab": {}
      },
      "source": [
        "# Create Histogram plot for column class only\n",
        "import matplotlib.pyplot as plt\n",
        "# extract column of the classes from dataframe\n",
        "Class = dataFrame.loc[:,1]\n",
        "Class\n",
        "\n",
        "plt.hist(Class)\n",
        "plt.show()"
      ],
      "execution_count": 0,
      "outputs": []
    },
    {
      "cell_type": "code",
      "metadata": {
        "id": "ylqGqowh-zxg",
        "colab_type": "code",
        "colab": {}
      },
      "source": [
        "# remove first and second columns (instance id and class) \n",
        "data = dataFrame.drop(columns=0)\n",
        "data = data.drop(columns=1)\n",
        "data"
      ],
      "execution_count": 0,
      "outputs": []
    },
    {
      "cell_type": "code",
      "metadata": {
        "id": "-vej7vNMLTi5",
        "colab_type": "code",
        "colab": {}
      },
      "source": [
        "# create scatter plot for the first attribute\n",
        "import numpy\n",
        "\n",
        "plt.figure(figsize=(52,2))\n",
        "plt.scatter(dataFrame.loc[1:100,2],dataFrame.loc[1:100,1])\n",
        "plt.show()"
      ],
      "execution_count": 0,
      "outputs": []
    },
    {
      "cell_type": "code",
      "metadata": {
        "id": "rQoyM5RI8hEO",
        "colab_type": "code",
        "colab": {}
      },
      "source": [
        "#create attribute list to create box plot\n",
        "attributesList = []\n",
        "i = 2\n",
        "j = 0\n",
        "while i < 32:\n",
        "    listTemp = data.loc[:,i].values.tolist()\n",
        "    listTemp2 = [float(k) for k in listTemp]\n",
        "    attributesList.insert(j , listTemp2)\n",
        "    i = i + 1\n",
        "    j = j + 1\n",
        "\n",
        "attributesList"
      ],
      "execution_count": 0,
      "outputs": []
    },
    {
      "cell_type": "code",
      "metadata": {
        "id": "ObfH9FdU6zge",
        "colab_type": "code",
        "colab": {}
      },
      "source": [
        "# Create boxplot\n",
        "plt.figure(figsize=(20,25))\n",
        "plt.boxplot(attributesList)\n",
        "plt.show()"
      ],
      "execution_count": 0,
      "outputs": []
    },
    {
      "cell_type": "code",
      "metadata": {
        "id": "LmxZWN_KFBBJ",
        "colab_type": "code",
        "colab": {}
      },
      "source": [
        "#Calculate correlation coefficient for Attribute List\n",
        "import numpy\n",
        "correlationMatrix = numpy.corrcoef(attributesList)\n",
        "correlationMatrix"
      ],
      "execution_count": 0,
      "outputs": []
    },
    {
      "cell_type": "code",
      "metadata": {
        "id": "bMuGtXOvHPnz",
        "colab_type": "code",
        "colab": {}
      },
      "source": [
        "#Visualize correlationMatrix using imshow\n",
        "plt.imshow(correlationMatrix)"
      ],
      "execution_count": 0,
      "outputs": []
    },
    {
      "cell_type": "code",
      "metadata": {
        "id": "XUgNJE8oHgiS",
        "colab_type": "code",
        "colab": {}
      },
      "source": [
        "#split data set to training data (70% of data, 398 instances) and test data (30% of data, 171 instances)\n",
        "from sklearn.model_selection import StratifiedShuffleSplit\n",
        "\n",
        "sss = StratifiedShuffleSplit(n_splits=4, test_size=0.3,train_size=0.7, random_state=1)\n",
        "\n",
        "#convert data and Class (dataframes) to arrays\n",
        "dataArray = numpy.array(data)\n",
        "classArray = numpy.array(Class)\n",
        "\n",
        "#sss.get_n_splits(dataArray, classArray)\n",
        "\n",
        "for train_index, test_index in sss.split(dataArray, classArray):\n",
        "#    print(\"TRAIN:\", train_index, \"TEST:\", test_index)\n",
        "    data_train, data_test = dataArray[train_index], dataArray[test_index]\n",
        "    Class_train, Class_test = classArray[train_index], classArray[test_index]\n",
        "\n",
        "print(\"-----------------------------\")\n",
        "print(len(data_train))\n",
        "print(\"==========\")\n",
        "print(data_train)\n",
        "print(\"-----------------------------\")\n",
        "print(len(data_test))\n",
        "print(\"==========\")\n",
        "print(data_test)\n",
        "print(\"-----------------------------\")\n",
        "print(len(Class_train))\n",
        "print(\"==========\")\n",
        "print(Class_train)\n",
        "print(\"-----------------------------\")\n",
        "print(len(Class_test))\n",
        "print(\"==========\")\n",
        "print(Class_test)"
      ],
      "execution_count": 0,
      "outputs": []
    },
    {
      "cell_type": "code",
      "metadata": {
        "id": "upxaR4IPaqCv",
        "colab_type": "code",
        "colab": {}
      },
      "source": [
        "# create train dataframe\n",
        "trainDataFrame = pd.DataFrame(data_train)\n",
        "trainDataFrame"
      ],
      "execution_count": 0,
      "outputs": []
    },
    {
      "cell_type": "code",
      "metadata": {
        "id": "fUolZR7sc2l_",
        "colab_type": "code",
        "colab": {}
      },
      "source": [
        "# create train data attribute list\n",
        "trainAttributeList = []\n",
        "i = 0\n",
        "while i < 30:\n",
        "    listTemp = trainDataFrame.loc[:,i].values.tolist()\n",
        "    listTemp2 = [float(k) for k in listTemp]\n",
        "    trainAttributeList.insert(i , listTemp2)\n",
        "    i = i + 1\n",
        "\n",
        "trainAttributeList"
      ],
      "execution_count": 0,
      "outputs": []
    },
    {
      "cell_type": "code",
      "metadata": {
        "id": "bwbnt6K1XZ18",
        "colab_type": "code",
        "colab": {}
      },
      "source": [
        "# data train minmax normalization\n",
        "from sklearn.preprocessing import minmax_scale\n",
        "\n",
        "normalizedMinmaxTrain = minmax_scale(trainAttributeList)\n",
        "\n",
        "print(normalizedMinmaxTrain)\n",
        "\n",
        "plt.boxplot(trainAttributeList[0])\n",
        "\n",
        "plt.show()\n",
        "\n",
        "normalizedMinmaxTrainAttribute = minmax_scale(trainAttributeList[0])\n",
        "\n",
        "plt.boxplot(normalizedMinmaxTrainAttribute)\n",
        "\n",
        "plt.show()\n"
      ],
      "execution_count": 0,
      "outputs": []
    },
    {
      "cell_type": "code",
      "metadata": {
        "id": "CgYKDz-zfWJk",
        "colab_type": "code",
        "colab": {}
      },
      "source": [
        "# create test dataframe\n",
        "testDataFrame = pd.DataFrame(data_test)\n",
        "testDataFrame"
      ],
      "execution_count": 0,
      "outputs": []
    },
    {
      "cell_type": "code",
      "metadata": {
        "id": "gIEAHuvtfmoe",
        "colab_type": "code",
        "colab": {}
      },
      "source": [
        "# create test data attribute list\n",
        "testAttributeList = []\n",
        "i = 0\n",
        "while i < 30:\n",
        "    listTemp = testDataFrame.loc[:,i].values.tolist()\n",
        "    listTemp2 = [float(k) for k in listTemp]\n",
        "    testAttributeList.insert(i , listTemp2)\n",
        "    i = i + 1\n",
        "\n",
        "testAttributeList"
      ],
      "execution_count": 0,
      "outputs": []
    },
    {
      "cell_type": "code",
      "metadata": {
        "id": "i0DHg8EmfxhA",
        "colab_type": "code",
        "colab": {}
      },
      "source": [
        "# data test minmax normalization\n",
        "from sklearn.preprocessing import minmax_scale\n",
        "\n",
        "normalizedMinmaxTest = minmax_scale(testAttributeList)\n",
        "\n",
        "print(normalizedMinmaxTest)\n",
        "\n",
        "plt.boxplot(testAttributeList[0])\n",
        "\n",
        "plt.show()\n",
        "\n",
        "normalizedMinmaxTestAttribute = minmax_scale(testAttributeList[0])\n",
        "\n",
        "plt.boxplot(normalizedMinmaxTestAttribute)\n",
        "\n",
        "plt.show()"
      ],
      "execution_count": 0,
      "outputs": []
    },
    {
      "cell_type": "code",
      "metadata": {
        "id": "QEJCjFzahxHd",
        "colab_type": "code",
        "colab": {}
      },
      "source": [
        "# create DecisionTreeClassifier model\n",
        "from sklearn.tree import DecisionTreeClassifier\n",
        "from sklearn import metrics\n",
        "\n",
        "DTC_clf = DecisionTreeClassifier(max_depth=5)\n",
        "\n",
        "DTC_clf = DTC_clf.fit(data_train,Class_train)\n",
        "\n",
        "DTC_Class_pred = DTC_clf.predict(data_test)\n",
        "\n",
        "print(\"Accuracy:\",metrics.accuracy_score(Class_test, DTC_Class_pred))\n",
        "print(metrics.confusion_matrix(Class_test, DTC_Class_pred))\n",
        "print(metrics.classification_report(Class_test, DTC_Class_pred,target_names=['M','B']))"
      ],
      "execution_count": 0,
      "outputs": []
    },
    {
      "cell_type": "code",
      "metadata": {
        "id": "OpqoQdK-wVFK",
        "colab_type": "code",
        "colab": {}
      },
      "source": [
        "# create AdaBoostClassifier model\n",
        "from sklearn.ensemble import AdaBoostClassifier\n",
        "# Create adaboost classifer object\n",
        "ABC_clf = AdaBoostClassifier(n_estimators=50,learning_rate=1)\n",
        "# Train Adaboost Classifer\n",
        "model = ABC_clf.fit(data_train, Class_train)\n",
        "\n",
        "#Predict the response for test dataset\n",
        "ABC_Class_pred = model.predict(data_test)\n",
        "\n",
        "# Model Accuracy, how often is the classifier correct?\n",
        "print(\"Accuracy:\",metrics.accuracy_score(Class_test, ABC_Class_pred))\n",
        "print(metrics.confusion_matrix(Class_test, ABC_Class_pred))\n",
        "print(metrics.classification_report(Class_test, ABC_Class_pred,target_names=['M','B']))"
      ],
      "execution_count": 0,
      "outputs": []
    },
    {
      "cell_type": "code",
      "metadata": {
        "id": "cAEh_9Zk2FjI",
        "colab_type": "code",
        "colab": {}
      },
      "source": [
        "# create RandomForestClassifier model\n",
        "from sklearn.ensemble import RandomForestClassifier\n",
        "\n",
        "RFC_clf=RandomForestClassifier(n_estimators=100,max_depth=5)\n",
        "\n",
        "RFC_clf.fit(data_train, Class_train)\n",
        "\n",
        "RFC_Class_pred = RFC_clf.predict(data_test)\n",
        "\n",
        "print(\"Accuracy:\",metrics.accuracy_score(Class_test, RFC_Class_pred))\n",
        "print(metrics.confusion_matrix(Class_test, RFC_Class_pred))\n",
        "print(metrics.classification_report(Class_test, RFC_Class_pred,target_names=['M','B']))"
      ],
      "execution_count": 0,
      "outputs": []
    },
    {
      "cell_type": "code",
      "metadata": {
        "id": "GRYPrHhIpMGY",
        "colab_type": "code",
        "colab": {}
      },
      "source": [
        "#apply GridSearchCV on each classfifier model to get best parameters\n",
        "from sklearn.model_selection import GridSearchCV\n",
        "\n",
        "DTC_params = { \n",
        "        'max_depth' : [4,5,6,7,8,9,10]\n",
        "}\n",
        "\n",
        "ABC_params = { \n",
        "    'n_estimators': [10, 50, 80, 100]\n",
        "}\n",
        "\n",
        "RFC_params = { \n",
        "    'n_estimators': [10, 50, 80, 100],\n",
        "    'max_depth' : [4,5,6,7,8,9,10]\n",
        "}\n",
        "\n",
        "CV_DTC = GridSearchCV(estimator=DTC_clf, param_grid=DTC_params, cv= 10)\n",
        "CV_DTC.fit(data_train, Class_train)\n",
        "print(\"DTC_best_parameters\",CV_DTC.best_params_ )\n",
        "\n",
        "CV_ABC = GridSearchCV(estimator=ABC_clf, param_grid=ABC_params, cv= 10)\n",
        "CV_ABC.fit(data_train, Class_train)\n",
        "print(\"ABC_best_parameters\",CV_ABC.best_params_ )\n",
        "\n",
        "CV_RFC = GridSearchCV(estimator=RFC_clf, param_grid=RFC_params, cv= 10)\n",
        "CV_RFC.fit(data_train, Class_train)\n",
        "print(\"RFC_best_parameters\",CV_RFC.best_params_ )"
      ],
      "execution_count": 0,
      "outputs": []
    }
  ]
}