{
  "nbformat": 4,
  "nbformat_minor": 0,
  "metadata": {
    "colab": {
      "name": "Lab01.ipynb",
      "provenance": [],
      "collapsed_sections": []
    },
    "kernelspec": {
      "name": "python3",
      "display_name": "Python 3"
    },
    "accelerator": "GPU"
  },
  "cells": [
    {
      "cell_type": "code",
      "metadata": {
        "id": "wPu56QUnLApO",
        "colab_type": "code",
        "colab": {}
      },
      "source": [
        "# Upload Files\n",
        "from google.colab import files\n",
        "\n",
        "uploaded = files.upload()\n",
        "\n",
        "for fn in uploaded.keys():\n",
        "  print('User uploaded file \"{name}\" with length {length} bytes'.format(\n",
        "      name=fn, length=len(uploaded[fn])))"
      ],
      "execution_count": 0,
      "outputs": []
    },
    {
      "cell_type": "code",
      "metadata": {
        "id": "KTOrAs0tLLtR",
        "colab_type": "code",
        "colab": {}
      },
      "source": [
        "# Read data feaures and content\n",
        "f =open(\"segmentation.data\", \"r\")\n",
        "if f.mode == 'r':\n",
        "      dataContents =f.readlines()\n",
        "\n",
        "dataContents.pop(0)\n",
        "dataContents.pop(0)\n",
        "dataContents.pop(0)\n",
        "\n",
        "dataFeatures = dataContents.pop(0)\n",
        "\n",
        "dataContents.pop(0)\n",
        "\n",
        "dataContents\n",
        "\n",
        "dataFeatures"
      ],
      "execution_count": 0,
      "outputs": []
    },
    {
      "cell_type": "code",
      "metadata": {
        "id": "kgrIXwNLSzel",
        "colab_type": "code",
        "colab": {}
      },
      "source": [
        "# Read test features and content\n",
        "f =open(\"segmentation.test\", \"r\")\n",
        "if f.mode == 'r':\n",
        "      testContents =f.readlines()\n",
        "\n",
        "testContents.pop(0)\n",
        "testContents.pop(0)\n",
        "testContents.pop(0)\n",
        "\n",
        "testFeatures = testContents.pop(0)\n",
        "\n",
        "testContents.pop(0)\n",
        "\n",
        "testContents\n",
        "\n",
        "#testFeatures"
      ],
      "execution_count": 0,
      "outputs": []
    },
    {
      "cell_type": "code",
      "metadata": {
        "id": "ygswFKP4XraP",
        "colab_type": "code",
        "colab": {}
      },
      "source": [
        "# Contents of both files\n",
        "contents = dataContents + testContents\n",
        "contents"
      ],
      "execution_count": 0,
      "outputs": []
    },
    {
      "cell_type": "code",
      "metadata": {
        "id": "vJXJ59sIZWFT",
        "colab_type": "code",
        "colab": {}
      },
      "source": [
        "# Creating list of list of strings for contents\n",
        "splitedContents = [i.split(\",\") for i in contents]\n",
        "splitedContents"
      ],
      "execution_count": 0,
      "outputs": []
    },
    {
      "cell_type": "code",
      "metadata": {
        "id": "MCP2XIlvf-4z",
        "colab_type": "code",
        "colab": {}
      },
      "source": [
        "# Creating list of strings for features\n",
        "splitedFeatures = dataFeatures.split(\",\")\n",
        "splitedFeatures.insert(0 , \"Class\")\n",
        "splitedFeatures"
      ],
      "execution_count": 0,
      "outputs": []
    },
    {
      "cell_type": "code",
      "metadata": {
        "id": "euJPzW7FcmRr",
        "colab_type": "code",
        "colab": {}
      },
      "source": [
        "# Creating dataFrame \n",
        "import pandas as pd\n",
        "\n",
        "dataFrame = pd.DataFrame(splitedContents , columns=splitedFeatures)\n",
        "dataFrame"
      ],
      "execution_count": 0,
      "outputs": []
    },
    {
      "cell_type": "code",
      "metadata": {
        "id": "L5ibMriHjtZL",
        "colab_type": "code",
        "colab": {}
      },
      "source": [
        "# Fetching classes\n",
        "classes = dataFrame.Class.unique()\n",
        "classes"
      ],
      "execution_count": 0,
      "outputs": []
    },
    {
      "cell_type": "code",
      "metadata": {
        "id": "abI9Vug_lEIE",
        "colab_type": "code",
        "colab": {}
      },
      "source": [
        "# Create Histogram plot for each class\n",
        "%matplotlib inline\n",
        "import matplotlib.pyplot as plt\n",
        "\n",
        "def histogram( x ):\n",
        "  plt.hist(x)\n",
        "  plt.show()\n",
        "  return"
      ],
      "execution_count": 0,
      "outputs": []
    },
    {
      "cell_type": "code",
      "metadata": {
        "id": "Blp9Z8teeIZm",
        "colab_type": "code",
        "colab": {}
      },
      "source": [
        "# Loop in classes and create Histogram plot\n",
        "for i in classes:\n",
        "  temp = dataFrame.loc[dataFrame.Class == i]\n",
        "  histogram(temp)"
      ],
      "execution_count": 0,
      "outputs": []
    },
    {
      "cell_type": "code",
      "metadata": {
        "id": "LmJfdbKligJt",
        "colab_type": "code",
        "colab": {}
      },
      "source": [
        "# Create Histogram plot for each class\n",
        "%matplotlib inline\n",
        "import matplotlib.pyplot as plt\n",
        "\n",
        "def histogram_bins( x ):\n",
        "  plt.hist(x,bins=10)\n",
        "  plt.show()\n",
        "  return"
      ],
      "execution_count": 0,
      "outputs": []
    },
    {
      "cell_type": "code",
      "metadata": {
        "id": "h7YZNPnHihrK",
        "colab_type": "code",
        "colab": {}
      },
      "source": [
        "# Loop in classes and create Histogram plot\n",
        "for i in classes:\n",
        "  temp = dataFrame.loc[dataFrame.Class == i]\n",
        "  histogram_bins(temp)"
      ],
      "execution_count": 0,
      "outputs": []
    },
    {
      "cell_type": "code",
      "metadata": {
        "id": "mj8CTf3WnN2O",
        "colab_type": "code",
        "colab": {}
      },
      "source": [
        "# Create list of attributes\n",
        "data = dataFrame.drop(\"Class\", axis=1)\n",
        "tmpFeatures = splitedFeatures[1::]\n",
        "attributesList = []\n",
        "j = 0\n",
        "for i in tmpFeatures:\n",
        "  listTemp = data.loc[:,i].values.tolist()\n",
        "  listTemp2 = [float(k) for k in listTemp]\n",
        "  attributesList.insert(j , listTemp2)\n",
        "  j = j + 1"
      ],
      "execution_count": 0,
      "outputs": []
    },
    {
      "cell_type": "code",
      "metadata": {
        "id": "nbnX7xzkQgv6",
        "colab_type": "code",
        "colab": {}
      },
      "source": [
        "# Create boxplot\n",
        "plt.boxplot(attributesList)\n",
        "plt.show()"
      ],
      "execution_count": 0,
      "outputs": []
    },
    {
      "cell_type": "code",
      "metadata": {
        "id": "rb_ZrO7DjjRS",
        "colab_type": "code",
        "colab": {}
      },
      "source": [
        "#Calculate correlation coefficient for Attribute List\n",
        "import numpy\n",
        "correlationMatrix = numpy.corrcoef(attributesList)\n",
        "correlationMatrix"
      ],
      "execution_count": 0,
      "outputs": []
    },
    {
      "cell_type": "code",
      "metadata": {
        "id": "-MwhWkReyobH",
        "colab_type": "code",
        "colab": {}
      },
      "source": [
        "#Visualize correlationMatrix using imshow\n",
        "plt.imshow(correlationMatrix)"
      ],
      "execution_count": 0,
      "outputs": []
    },
    {
      "cell_type": "code",
      "metadata": {
        "id": "cI6Fhv03zIML",
        "colab_type": "code",
        "colab": {}
      },
      "source": [
        "# minmax normalization\n",
        "from sklearn.preprocessing import minmax_scale\n",
        "\n",
        "normalizedMinmaxList = minmax_scale(attributesList)\n",
        "\n",
        "print(normalizedMinmaxList)\n",
        "\n",
        "plt.hist(attributesList[0])\n",
        "\n",
        "plt.show()\n",
        "\n",
        "normalizedMinmaxAttribute = minmax_scale(attributesList[0])\n",
        "\n",
        "plt.hist(normalizedMinmaxAttribute)\n",
        "\n",
        "plt.show()\n",
        "\n",
        "plt.boxplot(attributesList[0])\n",
        "\n",
        "plt.show()\n",
        "\n",
        "plt.boxplot(normalizedMinmaxAttribute)\n",
        "\n",
        "plt.show()"
      ],
      "execution_count": 0,
      "outputs": []
    },
    {
      "cell_type": "code",
      "metadata": {
        "id": "JWyENi3f9DsS",
        "colab_type": "code",
        "colab": {}
      },
      "source": [
        "# Zscore normalization\n",
        "from scipy import stats\n",
        "\n",
        "normalizedZscoreList = stats.zscore(attributesList)\n",
        "\n",
        "print(normalizedZscoreList)\n",
        "\n",
        "plt.hist(attributesList[0])\n",
        "\n",
        "plt.show()\n",
        "\n",
        "normalizedZscoreAttribute = stats.zscore(attributesList[0])\n",
        "\n",
        "plt.hist(normalizedZscoreAttribute)\n",
        "\n",
        "plt.show()\n",
        "\n",
        "plt.boxplot(attributesList[0])\n",
        "\n",
        "plt.show()\n",
        "\n",
        "plt.boxplot(normalizedZscoreAttribute)\n",
        "\n",
        "plt.show()"
      ],
      "execution_count": 0,
      "outputs": []
    },
    {
      "cell_type": "code",
      "metadata": {
        "id": "1RGbfbhfrPqe",
        "colab_type": "code",
        "colab": {}
      },
      "source": [
        "# Select number of components\n",
        "from sklearn.decomposition import PCA\n",
        "pca = PCA(n_components=2)\n",
        "t = pca.fit(normalizedZscoreList)\n",
        "print(t)\n",
        "pca.explained_variance_ratio_"
      ],
      "execution_count": 0,
      "outputs": []
    },
    {
      "cell_type": "code",
      "metadata": {
        "id": "1TtGOPk4v4Lv",
        "colab_type": "code",
        "colab": {}
      },
      "source": [
        "# Visualize correlation matrix of dataset after applying PCA\n",
        "correlationMatrixPCA = numpy.corrcoef(pca.components_)\n",
        "print(correlationMatrixPCA)\n",
        "plt.imshow(correlationMatrixPCA)"
      ],
      "execution_count": 0,
      "outputs": []
    },
    {
      "cell_type": "code",
      "metadata": {
        "id": "DOmF_d-kyhAP",
        "colab_type": "code",
        "colab": {}
      },
      "source": [
        "from sklearn.feature_selection import SelectKBest\n",
        "from sklearn.feature_selection import chi2\n",
        "y = [1,0,1,0,1,0,1,0,1,0,1,0,1,0,1,0,1,0,1]\n",
        "\n",
        "X_new = SelectKBest(chi2, k=2).fit_transform(normalizedMinmaxList,y)\n",
        "print(X_new)\n",
        "correlationMatrixPCANEW = numpy.corrcoef(X_new)\n",
        "correlationMatrixPCANEW\n",
        "plt.imshow(correlationMatrixPCANEW)"
      ],
      "execution_count": 0,
      "outputs": []
    }
  ]
}